{
 "cells": [
  {
   "cell_type": "code",
   "execution_count": 2,
   "id": "70da84db-1a87-4e7d-a469-853a92feba1f",
   "metadata": {},
   "outputs": [
    {
     "data": {
      "text/plain": [
       "False"
      ]
     },
     "execution_count": 2,
     "metadata": {},
     "output_type": "execute_result"
    }
   ],
   "source": [
    "import torch \n",
    "torch.cuda.is_available()\n",
    "#conda activate하면 torch 가상환경 들어가구\n",
    "#가상환경에서 jupyter notebook 입력해야함..!\n",
    "#conda deactivate 하면 빠져온다"
   ]
  },
  {
   "cell_type": "code",
   "execution_count": 4,
   "id": "25fe40ec-3b0b-474d-96e8-a27a740412db",
   "metadata": {},
   "outputs": [
    {
     "data": {
      "text/plain": [
       "'1.13.1'"
      ]
     },
     "execution_count": 4,
     "metadata": {},
     "output_type": "execute_result"
    }
   ],
   "source": [
    "torch.__version__"
   ]
  },
  {
   "cell_type": "code",
   "execution_count": 7,
   "id": "24fae1f3-9605-4411-a255-d2a8400735ea",
   "metadata": {},
   "outputs": [],
   "source": [
    "from torch import nn\n",
    "from torch.utils.data import DataLoader\n",
    "from torchvision import datasets\n",
    "from torchvision.transforms import ToTensor\n",
    "import matplotlib.pyplot as plt\n",
    "import numpy as np\n"
   ]
  },
  {
   "cell_type": "code",
   "execution_count": 10,
   "id": "f8c2a007-7f27-476e-b5e4-57d1f1c6f8e9",
   "metadata": {},
   "outputs": [
    {
     "name": "stdout",
     "output_type": "stream",
     "text": [
      "Downloading http://fashion-mnist.s3-website.eu-central-1.amazonaws.com/train-images-idx3-ubyte.gz\n",
      "Downloading http://fashion-mnist.s3-website.eu-central-1.amazonaws.com/train-images-idx3-ubyte.gz to data/FashionMNIST/raw/train-images-idx3-ubyte.gz\n"
     ]
    },
    {
     "name": "stderr",
     "output_type": "stream",
     "text": [
      "100.0%\n"
     ]
    },
    {
     "name": "stdout",
     "output_type": "stream",
     "text": [
      "Extracting data/FashionMNIST/raw/train-images-idx3-ubyte.gz to data/FashionMNIST/raw\n",
      "\n",
      "Downloading http://fashion-mnist.s3-website.eu-central-1.amazonaws.com/train-labels-idx1-ubyte.gz\n",
      "Downloading http://fashion-mnist.s3-website.eu-central-1.amazonaws.com/train-labels-idx1-ubyte.gz to data/FashionMNIST/raw/train-labels-idx1-ubyte.gz\n"
     ]
    },
    {
     "name": "stderr",
     "output_type": "stream",
     "text": [
      "100.0%\n"
     ]
    },
    {
     "name": "stdout",
     "output_type": "stream",
     "text": [
      "Extracting data/FashionMNIST/raw/train-labels-idx1-ubyte.gz to data/FashionMNIST/raw\n",
      "\n",
      "Downloading http://fashion-mnist.s3-website.eu-central-1.amazonaws.com/t10k-images-idx3-ubyte.gz\n",
      "Downloading http://fashion-mnist.s3-website.eu-central-1.amazonaws.com/t10k-images-idx3-ubyte.gz to data/FashionMNIST/raw/t10k-images-idx3-ubyte.gz\n"
     ]
    },
    {
     "name": "stderr",
     "output_type": "stream",
     "text": [
      "100.0%\n"
     ]
    },
    {
     "name": "stdout",
     "output_type": "stream",
     "text": [
      "Extracting data/FashionMNIST/raw/t10k-images-idx3-ubyte.gz to data/FashionMNIST/raw\n",
      "\n",
      "Downloading http://fashion-mnist.s3-website.eu-central-1.amazonaws.com/t10k-labels-idx1-ubyte.gz\n",
      "Downloading http://fashion-mnist.s3-website.eu-central-1.amazonaws.com/t10k-labels-idx1-ubyte.gz to data/FashionMNIST/raw/t10k-labels-idx1-ubyte.gz\n"
     ]
    },
    {
     "name": "stderr",
     "output_type": "stream",
     "text": [
      "100.0%"
     ]
    },
    {
     "name": "stdout",
     "output_type": "stream",
     "text": [
      "Extracting data/FashionMNIST/raw/t10k-labels-idx1-ubyte.gz to data/FashionMNIST/raw\n",
      "\n"
     ]
    },
    {
     "name": "stderr",
     "output_type": "stream",
     "text": [
      "\n"
     ]
    }
   ],
   "source": [
    "training_data = datasets.FashionMNIST(\n",
    "    root = \"data\",\n",
    "    train = True,\n",
    "    download = True,\n",
    "    transform = ToTensor())\n",
    "test_data = datasets.FashionMNIST(\n",
    "    root = \"data\",\n",
    "    train = False,\n",
    "    download = True,\n",
    "    transform = ToTensor())"
   ]
  },
  {
   "cell_type": "code",
   "execution_count": 11,
   "id": "be510ebc-5e0d-4fde-8f73-48e8cb4b6b49",
   "metadata": {},
   "outputs": [],
   "source": [
    "labels_map = {0: \"T-shirt\",1: \"Trouser\",2: \"Pullover\",3:\"Dress\", 4:\"Coat\", 5:\"Sandal\", 6:\"Shirt\",7:\"Sneaker\",8:\"Bag\",9:\"Ankle Boot\"}"
   ]
  },
  {
   "cell_type": "code",
   "execution_count": 13,
   "id": "ad8225f3-1210-4fc6-8d7d-a50b2318b1df",
   "metadata": {},
   "outputs": [
    {
     "data": {
      "text/plain": [
       "torch.Size([1, 28, 28])"
      ]
     },
     "execution_count": 13,
     "metadata": {},
     "output_type": "execute_result"
    }
   ],
   "source": [
    "training_data[0][0].shape"
   ]
  },
  {
   "cell_type": "code",
   "execution_count": 14,
   "id": "c66c3ff1-17cd-47e9-9d27-62fbc6c04ce2",
   "metadata": {},
   "outputs": [
    {
     "data": {
      "text/plain": [
       "60000"
      ]
     },
     "execution_count": 14,
     "metadata": {},
     "output_type": "execute_result"
    }
   ],
   "source": [
    "len(training_data)"
   ]
  },
  {
   "cell_type": "code",
   "execution_count": 15,
   "id": "15e4a193-c60f-4e87-a7e6-17da831e9c5b",
   "metadata": {},
   "outputs": [
    {
     "data": {
      "text/plain": [
       "torch.Size([1, 28, 28])"
      ]
     },
     "execution_count": 15,
     "metadata": {},
     "output_type": "execute_result"
    }
   ],
   "source": [
    "test_data[0][0].shape"
   ]
  },
  {
   "cell_type": "code",
   "execution_count": 16,
   "id": "eb235397-409f-4f87-9f67-f8661e926331",
   "metadata": {},
   "outputs": [
    {
     "data": {
      "text/plain": [
       "10000"
      ]
     },
     "execution_count": 16,
     "metadata": {},
     "output_type": "execute_result"
    }
   ],
   "source": [
    "len(test_data)"
   ]
  },
  {
   "cell_type": "code",
   "execution_count": 17,
   "id": "9c321480-1f77-4f4f-9f28-7843959eacd5",
   "metadata": {},
   "outputs": [
    {
     "data": {
      "image/png": "[encoded data removed]",
      "text/plain": [
       "<Figure size 1000x1000 with 25 Axes>"
      ]
     },
     "metadata": {},
     "output_type": "display_data"
    }
   ],
   "source": [
    "figure = plt.figure(figsize = (10,10))\n",
    "cols, rows = 5, 5\n",
    "for i in range(1, cols * rows + 1):\n",
    "    sample_idx = i -1 \n",
    "    img, label = training_data[sample_idx]\n",
    "    figure.add_subplot(rows, cols, i)\n",
    "    plt.title(labels_map[label])\n",
    "    plt.axis(\"off\")\n",
    "    plt.imshow(img.squeeze(), cmap = \"gray\")\n",
    "plt.show()"
   ]
  },
  {
   "cell_type": "code",
   "execution_count": 21,
   "id": "e911b9d9-d84b-47c4-82bd-acba4aeb8908",
   "metadata": {},
   "outputs": [
    {
     "name": "stdout",
     "output_type": "stream",
     "text": [
      "Shape of X [N,C,H,W]: torch.Size([64, 1, 28, 28])\n",
      "Shape of y: torch.Size([64]) torch.int64\n"
     ]
    }
   ],
   "source": [
    "batch_size = 64\n",
    "train_dataloader = DataLoader(training_data, batch_size =batch_size)\n",
    "test_dataloader = DataLoader(test_data, batch_size=batch_size)\n",
    "\n",
    "for X,y in test_dataloader:\n",
    "    print(\"Shape of X [N,C,H,W]:\",X.shape)\n",
    "    print(\"Shape of y:\",y.shape, y.dtype)\n",
    "    break\n",
    "\n",
    "model =nn.Sequential(\n",
    "    nn.Linear(32,64),\n",
    "    nn.ReLU(),\n",
    "    nn.Linear(64,64),\n",
    "    nn.ReLU(),\n",
    "    nn.Linear(64,10),\n",
    "    nn.Softmax()\n",
    ")"
   ]
  },
  {
   "cell_type": "code",
   "execution_count": 32,
   "id": "50b5756d-997d-4cfa-949c-26b624e95faf",
   "metadata": {},
   "outputs": [
    {
     "name": "stdout",
     "output_type": "stream",
     "text": [
      "usingcpudevice\n",
      "NeuralNetwork(\n",
      "  (flatten): Flatten(start_dim=1, end_dim=-1)\n",
      "  (linear_relu_stack): Sequential(\n",
      "    (0): Linear(in_features=784, out_features=512, bias=True)\n",
      "    (1): ReLU()\n",
      "    (2): Linear(in_features=512, out_features=512, bias=True)\n",
      "    (3): ReLU()\n",
      "    (4): Linear(in_features=512, out_features=10, bias=True)\n",
      "  )\n",
      ")\n"
     ]
    }
   ],
   "source": [
    "device = \"cuda\" if torch.cuda.is_available() else \"cpu\"\n",
    "print(f\"using{device}device\")\n",
    "\n",
    "class NeuralNetwork(nn.Module):\n",
    "    def __init__(self):\n",
    "        super(NeuralNetwork, self).__init__()\n",
    "        self.flatten = nn.Flatten()  # 2차원을 1차원으로 변환하는거임(ex 28 * 28 -> 784)\n",
    "        self.linear_relu_stack = nn.Sequential(\n",
    "            nn.Linear(28*28, 512),\n",
    "            nn.ReLU(),\n",
    "            nn.Linear(512, 512),\n",
    "            nn.ReLU(),\n",
    "            nn.Linear(512, 10)\n",
    "        )\n",
    "    def forward(self, x):\n",
    "        x = self.flatten(x)\n",
    "        logits = self.linear_relu_stack(x)\n",
    "        return logits\n",
    "        \n",
    "model = NeuralNetwork().to(device)\n",
    "print(model)"
   ]
  },
  {
   "cell_type": "code",
   "execution_count": 43,
   "id": "52b85b06-f550-4248-9e9e-3a021cb47ac8",
   "metadata": {},
   "outputs": [],
   "source": [
    "loss_fn =nn.CrossEntropyLoss()\n",
    "optimizer = torch.optim.Adam(model.parameters(), lr=0.003)\n",
    "\n",
    "def train(dataloader, model, loss_fn, optimizer):\n",
    "    size = len(dataloader.dataset)\n",
    "    for batch, (X,y) in enumerate(dataloader):\n",
    "        X, y = X.to(device), y.to(device)\n",
    "        pred = model(X)\n",
    "        loss = loss_fn(pred,y)\n",
    "\n",
    "        optimizer.zero_grad()\n",
    "        loss.backward()\n",
    "        optimizer.step()\n",
    "\n",
    "        if batch % 100 ==0:\n",
    "            loss, current = loss.item(), batch * len(X)\n",
    "            print(f\"loss: {loss:7f} [{current:>5d}/{size:>5d}]\")"
   ]
  },
  {
   "cell_type": "code",
   "execution_count": 44,
   "id": "6e0b71ae-5a46-40ee-8f6e-4a0d4a8453bd",
   "metadata": {},
   "outputs": [],
   "source": [
    "def test(dataloader, model, loss_fn):\n",
    "    size = len(dataloader.dataset)\n",
    "    num_batches = len(dataloader)\n",
    "    model.eval()\n",
    "    test_loss, correct = 0,0\n",
    "    with torch.no_grad():\n",
    "        for X, y in dataloader:\n",
    "            X,y = X.to(device), y.to(device)\n",
    "            pred = model(X)\n",
    "            test_loss += loss_fn(pred, y).item()\n",
    "            correct += (pred.argmax(1) ==y).type(torch.float).sum().item()\n",
    "    test_loss /= num_batches\n",
    "    correct /= size\n",
    "    print(f\"Test Error: \\n Accuracy: {(100*correct):>0.1f}%, Avg loss: {test_loss:>8f} \\n\")\n",
    " "
   ]
  },
  {
   "cell_type": "code",
   "execution_count": 45,
   "id": "f61101a3-3b1e-453a-a8b0-961ef5a298f4",
   "metadata": {},
   "outputs": [
    {
     "name": "stdout",
     "output_type": "stream",
     "text": [
      "Epoch1\n",
      "----------------------\n",
      "loss: 2.301956 [    0/60000]\n",
      "loss: 0.495369 [ 6400/60000]\n",
      "loss: 0.415915 [12800/60000]\n",
      "loss: 0.522717 [19200/60000]\n",
      "loss: 0.518588 [25600/60000]\n",
      "loss: 0.406513 [32000/60000]\n",
      "loss: 0.371174 [38400/60000]\n",
      "loss: 0.510067 [44800/60000]\n",
      "loss: 0.481579 [51200/60000]\n",
      "loss: 0.555969 [57600/60000]\n",
      "Test Error: \n",
      " Accuracy: 84.4%, Avg loss: 0.427257 \n",
      "\n",
      "Epoch2\n",
      "----------------------\n",
      "loss: 0.272121 [    0/60000]\n",
      "loss: 0.379262 [ 6400/60000]\n",
      "loss: 0.317369 [12800/60000]\n",
      "loss: 0.399995 [19200/60000]\n",
      "loss: 0.456959 [25600/60000]\n",
      "loss: 0.503357 [32000/60000]\n",
      "loss: 0.314573 [38400/60000]\n",
      "loss: 0.516587 [44800/60000]\n",
      "loss: 0.428843 [51200/60000]\n",
      "loss: 0.484618 [57600/60000]\n",
      "Test Error: \n",
      " Accuracy: 83.2%, Avg loss: 0.438558 \n",
      "\n",
      "Epoch3\n",
      "----------------------\n",
      "loss: 0.319362 [    0/60000]\n",
      "loss: 0.294349 [ 6400/60000]\n",
      "loss: 0.246478 [12800/60000]\n",
      "loss: 0.307257 [19200/60000]\n",
      "loss: 0.463562 [25600/60000]\n",
      "loss: 0.383348 [32000/60000]\n",
      "loss: 0.292804 [38400/60000]\n",
      "loss: 0.508934 [44800/60000]\n",
      "loss: 0.393679 [51200/60000]\n",
      "loss: 0.452275 [57600/60000]\n",
      "Test Error: \n",
      " Accuracy: 85.7%, Avg loss: 0.387225 \n",
      "\n",
      "Epoch4\n",
      "----------------------\n",
      "loss: 0.211784 [    0/60000]\n",
      "loss: 0.297677 [ 6400/60000]\n",
      "loss: 0.200705 [12800/60000]\n",
      "loss: 0.266891 [19200/60000]\n",
      "loss: 0.438754 [25600/60000]\n",
      "loss: 0.334928 [32000/60000]\n",
      "loss: 0.260620 [38400/60000]\n",
      "loss: 0.548271 [44800/60000]\n",
      "loss: 0.317352 [51200/60000]\n",
      "loss: 0.370639 [57600/60000]\n",
      "Test Error: \n",
      " Accuracy: 85.1%, Avg loss: 0.413125 \n",
      "\n",
      "Epoch5\n",
      "----------------------\n",
      "loss: 0.237225 [    0/60000]\n",
      "loss: 0.281985 [ 6400/60000]\n",
      "loss: 0.231691 [12800/60000]\n",
      "loss: 0.289394 [19200/60000]\n",
      "loss: 0.376259 [25600/60000]\n",
      "loss: 0.326652 [32000/60000]\n",
      "loss: 0.247557 [38400/60000]\n",
      "loss: 0.462360 [44800/60000]\n",
      "loss: 0.384348 [51200/60000]\n",
      "loss: 0.345205 [57600/60000]\n",
      "Test Error: \n",
      " Accuracy: 86.0%, Avg loss: 0.387736 \n",
      "\n",
      "Done\n"
     ]
    }
   ],
   "source": [
    "epochs = 5\n",
    "for t in range(epochs):\n",
    "    print(f\"Epoch{t+1}\\n----------------------\")\n",
    "    train(train_dataloader, model, loss_fn, optimizer)\n",
    "    test(test_dataloader, model, loss_fn)\n",
    "print(\"Done\")"
   ]
  },
  {
   "cell_type": "code",
   "execution_count": 46,
   "id": "e3a3631a-f0f6-4b98-8021-1af5f254665b",
   "metadata": {},
   "outputs": [
    {
     "data": {
      "text/plain": [
       "tensor([ -8.6292,  -9.5483, -10.8680, -14.1162, -14.7652,  -0.4317,  -9.8470,\n",
       "          0.0954,  -6.3269,   3.7095])"
      ]
     },
     "execution_count": 46,
     "metadata": {},
     "output_type": "execute_result"
    }
   ],
   "source": [
    "with torch.no_grad():\n",
    "    predictions = [model(X.to(device))[0] for X,y in test_data]\n",
    "predictions[0]"
   ]
  },
  {
   "cell_type": "code",
   "execution_count": null,
   "id": "0c8d53a2-e66d-463d-a863-4d6197e7424e",
   "metadata": {},
   "outputs": [],
   "source": [
    "def plot_image(i, predictions_array, data):\n",
    "    predictions_array, true_label, img = predictions_array[i].cpu().numpy(),data[i][1],data[i][0].squeeze()\n",
    "    plt.grid(False)\n",
    "    plt.xticks([])\n",
    "    plt.yticks([])\n",
    "    plt.imshow(img. cmap=plt.cm.binary)\n",
    "    plt.imshow(img, cmap = plt.cm.binary)\n",
    "    predicted_label = np.argmax(predictions_array)\n",
    "    if predicted_label = true_label:\n",
    "        color = \"blue\"\n",
    "    else:\n",
    "        color = \"red\"\n",
    "    plt.xlabel(\"{} {:2.0f}% ({})\".format(labels_map[predicted_label],\n",
    "                                         100*np.max(predictions_array),\n",
    "                                         labels_map[true_label],\n",
    "                                         color = color)\n",
    "    def plot_value_array(i, predictions_array, data):\n",
    "        predictions_array, true_label = predictions_array[1]\n",
    "                                           \n",
    "    \n",
    "    "
   ]
  }
 ],
 "metadata": {
  "kernelspec": {
   "display_name": "Python [conda env:pytorch]",
   "language": "python",
   "name": "conda-env-pytorch-py"
  },
  "language_info": {
   "codemirror_mode": {
    "name": "ipython",
    "version": 3
   },
   "file_extension": ".py",
   "mimetype": "text/x-python",
   "name": "python",
   "nbconvert_exporter": "python",
   "pygments_lexer": "ipython3",
   "version": "3.8.19"
  }
 },
 "nbformat": 4,
 "nbformat_minor": 5
}
